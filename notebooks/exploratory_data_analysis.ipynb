{
 "cells": [
  {
   "cell_type": "code",
   "execution_count": null,
   "metadata": {},
   "outputs": [],
   "source": [
    "import pandas as pd\n",
    "import matplotlib.pyplot as plt\n",
    "import seaborn as sns\n",
    "import os\n",
    "\n",
    "# Step 1: Load the data\n",
    "data = pd.read_csv('../data/processed/merged_student_data.csv')\n",
    "\n",
    "# Step 2: Data Overview\n",
    "print(\"Data Overview:\")\n",
    "print(data.info())\n",
    "print('---')\n",
    "print('---')\n",
    "print(data.describe(include='all'))"
   ]
  },
  {
   "cell_type": "code",
   "execution_count": 14,
   "metadata": {},
   "outputs": [
    {
     "name": "stdout",
     "output_type": "stream",
     "text": [
      "Missing Values:\n",
      "Reason_for_Absence              16\n",
      "Parents_Education_Level         12\n",
      "Library_Access                  20\n",
      "Teacher_Hours_Assigned          20\n",
      "Study_Materials_Availability    20\n",
      "Electricity_Access              20\n",
      "dtype: int64\n"
     ]
    }
   ],
   "source": [
    "# Missing Values Analysis\n",
    "missing_values = data.isnull().sum()\n",
    "print(\"Missing Values:\")\n",
    "print(missing_values[missing_values > 0])"
   ]
  },
  {
   "cell_type": "code",
   "execution_count": null,
   "metadata": {},
   "outputs": [],
   "source": [
    "# Distribution of Age\n",
    "plt.figure(figsize=(10, 6))\n",
    "sns.histplot(data['Age'], bins=10, kde=True)\n",
    "plt.title('Age Distribution')\n",
    "plt.xlabel('Age')\n",
    "plt.ylabel('Frequency')\n",
    "plt.savefig('data/images/age_distribution.png')\n",
    "plt.clf()"
   ]
  },
  {
   "cell_type": "code",
   "execution_count": null,
   "metadata": {},
   "outputs": [],
   "source": [
    "# Distribution of Monthly Income\n",
    "plt.figure(figsize=(10, 6))\n",
    "sns.histplot(data['Monthly_Income'], bins=20, kde=True)\n",
    "plt.title('Monthly Income Distribution')\n",
    "plt.xlabel('Monthly Income')\n",
    "plt.ylabel('Frequency')\n",
    "plt.savefig('data/images/monthly_income_distribution.png')\n",
    "plt.clf()"
   ]
  },
  {
   "cell_type": "code",
   "execution_count": null,
   "metadata": {},
   "outputs": [],
   "source": [
    "# Select only numerical columns\n",
    "numerical_data = data.select_dtypes(include='number')\n",
    "\n",
    "# Correlation Analysis\n",
    "correlation_matrix = numerical_data.corr()\n",
    "plt.figure(figsize=(12, 8))\n",
    "sns.heatmap(correlation_matrix, annot=True, fmt=\".2f\", cmap='coolwarm')\n",
    "plt.title('Correlation Matrix')\n",
    "plt.savefig('data/images/correlation_matrix.png')\n",
    "plt.clf()"
   ]
  },
  {
   "cell_type": "code",
   "execution_count": null,
   "metadata": {},
   "outputs": [],
   "source": [
    "# Gender Distribution\n",
    "plt.figure(figsize=(8, 6))\n",
    "sns.countplot(data=data, x='Gender')\n",
    "plt.title('Gender Distribution')\n",
    "plt.xlabel('Gender')\n",
    "plt.ylabel('Count')\n",
    "plt.savefig('data/images/gender_distribution.png')\n",
    "plt.clf()"
   ]
  },
  {
   "cell_type": "code",
   "execution_count": null,
   "metadata": {},
   "outputs": [],
   "source": [
    "# Attendance Consistency Distribution\n",
    "plt.figure(figsize=(8, 6))\n",
    "sns.countplot(data=data, x='Attendance_Consistency')\n",
    "plt.title('Attendance Consistency Distribution')\n",
    "plt.xlabel('Attendance Consistency')\n",
    "plt.ylabel('Count')\n",
    "plt.savefig('data/images/attendance_consistency_distribution.png')\n",
    "plt.clf()"
   ]
  },
  {
   "cell_type": "code",
   "execution_count": null,
   "metadata": {},
   "outputs": [],
   "source": [
    "# Step 7: Impact on Academics Analysis\n",
    "plt.figure(figsize=(10, 6))\n",
    "sns.countplot(data=data, x='Impact_on_Academics')\n",
    "plt.title('Impact on Academics')\n",
    "plt.xlabel('Impact Level')\n",
    "plt.ylabel('Count')\n",
    "plt.savefig('data/images/impact_on_academics_distribution.png')\n",
    "plt.clf()"
   ]
  },
  {
   "cell_type": "code",
   "execution_count": null,
   "metadata": {},
   "outputs": [],
   "source": [
    "# Ensure images directory exists\n",
    "os.makedirs('data/images', exist_ok=True)\n",
    "\n",
    "# Final message\n",
    "print(\"EDA completed. Visualizations saved in the 'data/images' folder.\")"
   ]
  },
  {
   "cell_type": "code",
   "execution_count": null,
   "metadata": {},
   "outputs": [],
   "source": []
  }
 ],
 "metadata": {
  "kernelspec": {
   "display_name": "Python 3",
   "language": "python",
   "name": "python3"
  },
  "language_info": {
   "codemirror_mode": {
    "name": "ipython",
    "version": 3
   },
   "file_extension": ".py",
   "mimetype": "text/x-python",
   "name": "python",
   "nbconvert_exporter": "python",
   "pygments_lexer": "ipython3",
   "version": "3.12.1"
  }
 },
 "nbformat": 4,
 "nbformat_minor": 2
}
